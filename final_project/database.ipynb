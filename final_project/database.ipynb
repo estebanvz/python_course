{
 "cells": [
  {
   "cell_type": "code",
   "execution_count": 3,
   "source": [
    "from client import *\n",
    "from sell import *"
   ],
   "outputs": [],
   "metadata": {}
  },
  {
   "cell_type": "markdown",
   "source": [
    "# CRUD"
   ],
   "metadata": {}
  },
  {
   "cell_type": "code",
   "execution_count": 4,
   "source": [
    "class SellSystem():\n",
    "    def __init__(self) -> None:\n",
    "        self.sells = []\n",
    "        self.clients = []\n",
    "    def add_client(self, client_id, name):\n",
    "        new_client = Client(client_id,name)\n",
    "        if(not self._check_id(client_id)):\n",
    "            self.clients.append(new_client)\n",
    "            return 1\n",
    "        else:\n",
    "            print(\"There is a client with the id = {0}\".format(client_id))\n",
    "            return -1\n",
    "    def add_sell(self,stock_code,description, quantity, invoce_date, unit_price, client_id ,country):\n",
    "        new_sell = Sell(stock_code,description, quantity, invoce_date, unit_price, client_id ,country)\n",
    "        if(self._check_id(client_id)):\n",
    "            self.sells.append(new_sell)\n",
    "            return 1\n",
    "        else:\n",
    "            print(\"Error: The client_id do not exist! \")\n",
    "            return 0\n",
    "    def _check_id(self, client_id):\n",
    "        for client in self.clients:\n",
    "            if(client.id == client_id):\n",
    "                return 1\n",
    "        return 0\n",
    "    def remove_client(self, client_id):\n",
    "        if(self._check_id(client_id)):\n",
    "            self.clients = list(filter(lambda client: not (client.id == client_id),self.clients))\n",
    "            print(\"Removed client with id {0}\".format(client_id))\n",
    "            return 1\n",
    "        else:\n",
    "            print(\"There is not a client with id {0}\".format(client_id))\n",
    "            return 0\n",
    "    def read_clients(self):\n",
    "        for client in self.clients:\n",
    "            print(client.id,client.name)\n",
    "    def update_client(self, client_id, name):\n",
    "        if(self._check_id(client_id)):\n",
    "            for client in self.clients:\n",
    "                if(client.id==client_id):\n",
    "                    print(\"Client {0} updated to {1}\".format(client.name,name))\n",
    "                    client.name = name\n",
    "                    return 1\n",
    "        return 0"
   ],
   "outputs": [],
   "metadata": {}
  },
  {
   "cell_type": "code",
   "execution_count": 5,
   "source": [
    "ss = SellSystem()"
   ],
   "outputs": [],
   "metadata": {}
  },
  {
   "cell_type": "code",
   "execution_count": 8,
   "source": [
    "ss.add_client(1, \"Esteban Vilca\")\n",
    "ss.add_client(2, \"Sebastian Vilca\")"
   ],
   "outputs": [
    {
     "output_type": "execute_result",
     "data": {
      "text/plain": [
       "1"
      ]
     },
     "metadata": {},
     "execution_count": 8
    }
   ],
   "metadata": {}
  },
  {
   "cell_type": "code",
   "execution_count": 9,
   "source": [
    "ss.read_clients()"
   ],
   "outputs": [
    {
     "output_type": "stream",
     "name": "stdout",
     "text": [
      "Esteban Vilca\n",
      "Sebastian Vilca\n"
     ]
    }
   ],
   "metadata": {}
  },
  {
   "cell_type": "code",
   "execution_count": 10,
   "source": [
    "ss.update_client(2, \"Elard Saul Sebastian Vilca\")"
   ],
   "outputs": [
    {
     "output_type": "stream",
     "name": "stdout",
     "text": [
      "Client Sebastian Vilca updated to Elard Saul Sebastian Vilca\n"
     ]
    },
    {
     "output_type": "execute_result",
     "data": {
      "text/plain": [
       "1"
      ]
     },
     "metadata": {},
     "execution_count": 10
    }
   ],
   "metadata": {}
  },
  {
   "cell_type": "code",
   "execution_count": 11,
   "source": [
    "ss.add_client(3, \"Juan\")"
   ],
   "outputs": [
    {
     "output_type": "execute_result",
     "data": {
      "text/plain": [
       "1"
      ]
     },
     "metadata": {},
     "execution_count": 11
    }
   ],
   "metadata": {}
  },
  {
   "cell_type": "code",
   "execution_count": 12,
   "source": [
    "ss.remove_client(3)"
   ],
   "outputs": [
    {
     "output_type": "stream",
     "name": "stdout",
     "text": [
      "Removed client with id 3\n"
     ]
    },
    {
     "output_type": "execute_result",
     "data": {
      "text/plain": [
       "1"
      ]
     },
     "metadata": {},
     "execution_count": 12
    }
   ],
   "metadata": {}
  },
  {
   "cell_type": "code",
   "execution_count": 13,
   "source": [
    "ss.read_clients()"
   ],
   "outputs": [
    {
     "output_type": "stream",
     "name": "stdout",
     "text": [
      "Esteban Vilca\n",
      "Elard Saul Sebastian Vilca\n"
     ]
    }
   ],
   "metadata": {}
  },
  {
   "cell_type": "code",
   "execution_count": null,
   "source": [],
   "outputs": [],
   "metadata": {}
  }
 ],
 "metadata": {
  "orig_nbformat": 4,
  "language_info": {
   "name": "python",
   "version": "3.9.2",
   "mimetype": "text/x-python",
   "codemirror_mode": {
    "name": "ipython",
    "version": 3
   },
   "pygments_lexer": "ipython3",
   "nbconvert_exporter": "python",
   "file_extension": ".py"
  },
  "kernelspec": {
   "name": "python3",
   "display_name": "Python 3.9.2 64-bit ('env': venv)"
  },
  "interpreter": {
   "hash": "d499f3d579cc0cecb9197b25658a0292416002765679c83fd10022deeb661972"
  }
 },
 "nbformat": 4,
 "nbformat_minor": 2
}