{
 "cells": [
  {
   "cell_type": "code",
   "execution_count": 9,
   "source": [
    "import matplotlib.pyplot as plt\n",
    "import pandas as pd"
   ],
   "outputs": [],
   "metadata": {}
  },
  {
   "cell_type": "code",
   "execution_count": 25,
   "source": [
    "df = pd.read_csv(\"data.csv\")\n",
    "df.head()"
   ],
   "outputs": [
    {
     "output_type": "execute_result",
     "data": {
      "text/html": [
       "<div>\n",
       "<style scoped>\n",
       "    .dataframe tbody tr th:only-of-type {\n",
       "        vertical-align: middle;\n",
       "    }\n",
       "\n",
       "    .dataframe tbody tr th {\n",
       "        vertical-align: top;\n",
       "    }\n",
       "\n",
       "    .dataframe thead th {\n",
       "        text-align: right;\n",
       "    }\n",
       "</style>\n",
       "<table border=\"1\" class=\"dataframe\">\n",
       "  <thead>\n",
       "    <tr style=\"text-align: right;\">\n",
       "      <th></th>\n",
       "      <th>InvoiceNo</th>\n",
       "      <th>StockCode</th>\n",
       "      <th>Description</th>\n",
       "      <th>Quantity</th>\n",
       "      <th>InvoiceDate</th>\n",
       "      <th>UnitPrice</th>\n",
       "      <th>CustomerID</th>\n",
       "      <th>Country</th>\n",
       "    </tr>\n",
       "  </thead>\n",
       "  <tbody>\n",
       "    <tr>\n",
       "      <th>471484</th>\n",
       "      <td>545460</td>\n",
       "      <td>22699</td>\n",
       "      <td>ROSES REGENCY TEACUP AND SAUCER</td>\n",
       "      <td>1</td>\n",
       "      <td>3/2/2011 17:33</td>\n",
       "      <td>2.95</td>\n",
       "      <td>13230.0</td>\n",
       "      <td>United Kingdom</td>\n",
       "    </tr>\n",
       "    <tr>\n",
       "      <th>365620</th>\n",
       "      <td>567614</td>\n",
       "      <td>22678</td>\n",
       "      <td>FRENCH BLUE METAL DOOR SIGN 3</td>\n",
       "      <td>10</td>\n",
       "      <td>9/21/2011 11:55</td>\n",
       "      <td>1.25</td>\n",
       "      <td>16103.0</td>\n",
       "      <td>United Kingdom</td>\n",
       "    </tr>\n",
       "    <tr>\n",
       "      <th>444264</th>\n",
       "      <td>568141</td>\n",
       "      <td>20992</td>\n",
       "      <td>JAZZ HEARTS PURSE NOTEBOOK</td>\n",
       "      <td>6</td>\n",
       "      <td>9/25/2011 11:21</td>\n",
       "      <td>0.39</td>\n",
       "      <td>16326.0</td>\n",
       "      <td>United Kingdom</td>\n",
       "    </tr>\n",
       "    <tr>\n",
       "      <th>8131</th>\n",
       "      <td>543273</td>\n",
       "      <td>21559</td>\n",
       "      <td>STRAWBERRY LUNCH BOX WITH CUTLERY</td>\n",
       "      <td>1</td>\n",
       "      <td>2/6/2011 11:29</td>\n",
       "      <td>2.55</td>\n",
       "      <td>16456.0</td>\n",
       "      <td>United Kingdom</td>\n",
       "    </tr>\n",
       "    <tr>\n",
       "      <th>237956</th>\n",
       "      <td>545238</td>\n",
       "      <td>21498</td>\n",
       "      <td>RED RETROSPOT WRAP</td>\n",
       "      <td>25</td>\n",
       "      <td>3/1/2011 11:02</td>\n",
       "      <td>0.42</td>\n",
       "      <td>15241.0</td>\n",
       "      <td>United Kingdom</td>\n",
       "    </tr>\n",
       "  </tbody>\n",
       "</table>\n",
       "</div>"
      ],
      "text/plain": [
       "       InvoiceNo StockCode                        Description  Quantity  \\\n",
       "471484    545460     22699   ROSES REGENCY TEACUP AND SAUCER          1   \n",
       "365620    567614     22678      FRENCH BLUE METAL DOOR SIGN 3        10   \n",
       "444264    568141     20992         JAZZ HEARTS PURSE NOTEBOOK         6   \n",
       "8131      543273     21559  STRAWBERRY LUNCH BOX WITH CUTLERY         1   \n",
       "237956    545238     21498                RED RETROSPOT WRAP         25   \n",
       "\n",
       "            InvoiceDate  UnitPrice  CustomerID         Country  \n",
       "471484   3/2/2011 17:33       2.95     13230.0  United Kingdom  \n",
       "365620  9/21/2011 11:55       1.25     16103.0  United Kingdom  \n",
       "444264  9/25/2011 11:21       0.39     16326.0  United Kingdom  \n",
       "8131     2/6/2011 11:29       2.55     16456.0  United Kingdom  \n",
       "237956   3/1/2011 11:02       0.42     15241.0  United Kingdom  "
      ]
     },
     "metadata": {},
     "execution_count": 25
    }
   ],
   "metadata": {}
  },
  {
   "cell_type": "code",
   "execution_count": 26,
   "source": [
    "df.describe()"
   ],
   "outputs": [
    {
     "output_type": "execute_result",
     "data": {
      "text/html": [
       "<div>\n",
       "<style scoped>\n",
       "    .dataframe tbody tr th:only-of-type {\n",
       "        vertical-align: middle;\n",
       "    }\n",
       "\n",
       "    .dataframe tbody tr th {\n",
       "        vertical-align: top;\n",
       "    }\n",
       "\n",
       "    .dataframe thead th {\n",
       "        text-align: right;\n",
       "    }\n",
       "</style>\n",
       "<table border=\"1\" class=\"dataframe\">\n",
       "  <thead>\n",
       "    <tr style=\"text-align: right;\">\n",
       "      <th></th>\n",
       "      <th>Quantity</th>\n",
       "      <th>UnitPrice</th>\n",
       "      <th>CustomerID</th>\n",
       "    </tr>\n",
       "  </thead>\n",
       "  <tbody>\n",
       "    <tr>\n",
       "      <th>count</th>\n",
       "      <td>54191.000000</td>\n",
       "      <td>54191.000000</td>\n",
       "      <td>40656.000000</td>\n",
       "    </tr>\n",
       "    <tr>\n",
       "      <th>mean</th>\n",
       "      <td>8.090015</td>\n",
       "      <td>4.393832</td>\n",
       "      <td>15285.013282</td>\n",
       "    </tr>\n",
       "    <tr>\n",
       "      <th>std</th>\n",
       "      <td>357.930568</td>\n",
       "      <td>58.845060</td>\n",
       "      <td>1717.087443</td>\n",
       "    </tr>\n",
       "    <tr>\n",
       "      <th>min</th>\n",
       "      <td>-80995.000000</td>\n",
       "      <td>0.000000</td>\n",
       "      <td>12347.000000</td>\n",
       "    </tr>\n",
       "    <tr>\n",
       "      <th>25%</th>\n",
       "      <td>1.000000</td>\n",
       "      <td>1.250000</td>\n",
       "      <td>13926.750000</td>\n",
       "    </tr>\n",
       "    <tr>\n",
       "      <th>50%</th>\n",
       "      <td>3.000000</td>\n",
       "      <td>2.080000</td>\n",
       "      <td>15144.000000</td>\n",
       "    </tr>\n",
       "    <tr>\n",
       "      <th>75%</th>\n",
       "      <td>10.000000</td>\n",
       "      <td>4.130000</td>\n",
       "      <td>16792.500000</td>\n",
       "    </tr>\n",
       "    <tr>\n",
       "      <th>max</th>\n",
       "      <td>12540.000000</td>\n",
       "      <td>6930.000000</td>\n",
       "      <td>18287.000000</td>\n",
       "    </tr>\n",
       "  </tbody>\n",
       "</table>\n",
       "</div>"
      ],
      "text/plain": [
       "           Quantity     UnitPrice    CustomerID\n",
       "count  54191.000000  54191.000000  40656.000000\n",
       "mean       8.090015      4.393832  15285.013282\n",
       "std      357.930568     58.845060   1717.087443\n",
       "min   -80995.000000      0.000000  12347.000000\n",
       "25%        1.000000      1.250000  13926.750000\n",
       "50%        3.000000      2.080000  15144.000000\n",
       "75%       10.000000      4.130000  16792.500000\n",
       "max    12540.000000   6930.000000  18287.000000"
      ]
     },
     "metadata": {},
     "execution_count": 26
    }
   ],
   "metadata": {}
  },
  {
   "cell_type": "code",
   "execution_count": 34,
   "source": [
    "plt.hist(df[\"Quantity\"].where(df[\"Quantity\"]>0).where(df[\"Quantity\"]<11).values)"
   ],
   "outputs": [
    {
     "output_type": "execute_result",
     "data": {
      "text/plain": [
       "(array([14767.,  8108.,  3682.,  3900.,  1205.,  4158.,   310.,  1342.,\n",
       "          224.,  2225.]),\n",
       " array([ 1. ,  1.9,  2.8,  3.7,  4.6,  5.5,  6.4,  7.3,  8.2,  9.1, 10. ]),\n",
       " <BarContainer object of 10 artists>)"
      ]
     },
     "metadata": {},
     "execution_count": 34
    },
    {
     "output_type": "display_data",
     "data": {
      "image/png": "[encoded data removed]",
      "text/plain": [
       "<Figure size 432x288 with 1 Axes>"
      ]
     },
     "metadata": {
      "needs_background": "light"
     }
    }
   ],
   "metadata": {}
  },
  {
   "cell_type": "code",
   "execution_count": null,
   "source": [],
   "outputs": [],
   "metadata": {}
  }
 ],
 "metadata": {
  "orig_nbformat": 4,
  "language_info": {
   "name": "python",
   "version": "3.9.2",
   "mimetype": "text/x-python",
   "codemirror_mode": {
    "name": "ipython",
    "version": 3
   },
   "pygments_lexer": "ipython3",
   "nbconvert_exporter": "python",
   "file_extension": ".py"
  },
  "kernelspec": {
   "name": "python3",
   "display_name": "Python 3.9.2 64-bit ('env': venv)"
  },
  "interpreter": {
   "hash": "d499f3d579cc0cecb9197b25658a0292416002765679c83fd10022deeb661972"
  }
 },
 "nbformat": 4,
 "nbformat_minor": 2
}